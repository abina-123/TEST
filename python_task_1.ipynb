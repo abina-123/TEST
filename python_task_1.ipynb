{
  "nbformat": 4,
  "nbformat_minor": 0,
  "metadata": {
    "colab": {
      "provenance": [],
      "authorship_tag": "ABX9TyOKUcfa2aqlD4UcBvHEKZR0",
      "include_colab_link": true
    },
    "kernelspec": {
      "name": "python3",
      "display_name": "Python 3"
    },
    "language_info": {
      "name": "python"
    }
  },
  "cells": [
    {
      "cell_type": "markdown",
      "metadata": {
        "id": "view-in-github",
        "colab_type": "text"
      },
      "source": [
        "<a href=\"https://colab.research.google.com/github/abina-123/TEST/blob/main/python_task_1.ipynb\" target=\"_parent\"><img src=\"https://colab.research.google.com/assets/colab-badge.svg\" alt=\"Open In Colab\"/></a>"
      ]
    },
    {
      "cell_type": "code",
      "execution_count": null,
      "metadata": {
        "id": "kRAsYSOOftyU"
      },
      "outputs": [],
      "source": []
    },
    {
      "cell_type": "markdown",
      "source": [
        "# **1.break, continue and pass**"
      ],
      "metadata": {
        "id": "hwpeqVvMg5a5"
      }
    },
    {
      "cell_type": "code",
      "source": [
        "for i in range(10):\n",
        "    if i == 5:\n",
        "        break\n",
        "    print(i)\n",
        "\n",
        "for i in range(10):\n",
        "    if i % 2 == 0:\n",
        "        continue\n",
        "    print(i)\n",
        "\n",
        "x = 5\n",
        "if x < 0:\n",
        "    pass  # Handle negative case later"
      ],
      "metadata": {
        "colab": {
          "base_uri": "https://localhost:8080/"
        },
        "id": "DQQlfQ1phNZ9",
        "outputId": "2a520c92-2805-46da-b372-3d9b337a6bb7"
      },
      "execution_count": null,
      "outputs": [
        {
          "output_type": "stream",
          "name": "stdout",
          "text": [
            "0\n",
            "1\n",
            "2\n",
            "3\n",
            "4\n",
            "1\n",
            "3\n",
            "5\n",
            "7\n",
            "9\n"
          ]
        }
      ]
    },
    {
      "cell_type": "markdown",
      "source": [
        "1.defition:\n",
        "break:\n",
        "     It is used to exit  a loop\n",
        "continue:\n",
        "     It is used to skip the current iteration of a loop and continue with the next iteration.\n",
        "pass:\n",
        "     It is a null operation, i.e nothing happens when it executes."
      ],
      "metadata": {
        "id": "tUoAqu57hywD"
      }
    },
    {
      "cell_type": "markdown",
      "source": [
        "# **2.lists and tuples**"
      ],
      "metadata": {
        "id": "CWF4oIh1i7Sz"
      }
    },
    {
      "cell_type": "code",
      "source": [
        "my_list = [1, 2, 3, 4, 5]\n",
        "\n",
        "my_list[0] = 10\n",
        "print(my_list)\n",
        "\n",
        "my_list.append(6)\n",
        "print(my_list)\n",
        "\n",
        "\n",
        "\n",
        "\n",
        "my_tuple = (1, 2, 3, 4, 5)\n",
        "print(my_tuple[0])"
      ],
      "metadata": {
        "colab": {
          "base_uri": "https://localhost:8080/"
        },
        "id": "w681CJDUjFwi",
        "outputId": "6f28a857-46af-4f1a-de2d-acd9ddc77136"
      },
      "execution_count": null,
      "outputs": [
        {
          "output_type": "stream",
          "name": "stdout",
          "text": [
            "[10, 2, 3, 4, 5]\n",
            "[10, 2, 3, 4, 5, 6]\n",
            "1\n"
          ]
        }
      ]
    },
    {
      "cell_type": "markdown",
      "source": [
        "list:\n",
        "   square brackets [ ].\n",
        "   The elements can be changed after creation.\n",
        "\n",
        "Tuples:  The elements cannot be changed after creation. They are defined using parentheses ( ).\n",
        "   The elements cannot be changed after creation."
      ],
      "metadata": {
        "id": "m5NWksNQjRrj"
      }
    },
    {
      "cell_type": "markdown",
      "source": [
        "# **#3. split() and join()**"
      ],
      "metadata": {
        "id": "-nBxec2Bjz2P"
      }
    },
    {
      "cell_type": "code",
      "source": [
        "sentence = \"Hello world, this is Python\"\n",
        "words = sentence.split()\n",
        "print(words)\n",
        "\n",
        "\n",
        "words = ['Hello', 'world,', 'this', 'is', 'Python']\n",
        "sentence = ' '.join(words)\n",
        "print(sentence)"
      ],
      "metadata": {
        "colab": {
          "base_uri": "https://localhost:8080/"
        },
        "id": "fs-w_UNZqjri",
        "outputId": "84e6d48e-c109-435a-bfee-3f6b180760c9"
      },
      "execution_count": null,
      "outputs": [
        {
          "output_type": "stream",
          "name": "stdout",
          "text": [
            "['Hello', 'world,', 'this', 'is', 'Python']\n",
            "Hello world, this is Python\n"
          ]
        }
      ]
    },
    {
      "cell_type": "markdown",
      "source": [
        "split(): A string into a list of substrings based on a delimiter.\n",
        "join():  joins the elements of an iterable single string using a specified delimiter.\n"
      ],
      "metadata": {
        "id": "Xm4TZs_Jqj8L"
      }
    },
    {
      "cell_type": "markdown",
      "source": [
        "# **4.inheritance**"
      ],
      "metadata": {
        "id": "M9uucFYNsD88"
      }
    },
    {
      "cell_type": "code",
      "source": [
        "class hotel:\n",
        "    def name(self):\n",
        "        print(\"Some generic name\")\n",
        "\n",
        "class places(hotel):\n",
        "    def name(self):\n",
        "        print(\"kanyakumari\")\n",
        "\n",
        "places = places()\n",
        "places.name()"
      ],
      "metadata": {
        "colab": {
          "base_uri": "https://localhost:8080/"
        },
        "id": "H1--TklY0jpt",
        "outputId": "1fa0fa6e-4539-4b75-fae2-5156adba18cc"
      },
      "execution_count": null,
      "outputs": [
        {
          "output_type": "stream",
          "name": "stdout",
          "text": [
            "kanyakumari\n"
          ]
        }
      ]
    },
    {
      "cell_type": "markdown",
      "source": [
        "Inheritance : class(subclass) to inherit attributes and methods from another class (superclass). The subclass can then extend or override the functionality of the superclass.\n",
        " inheritance two class\n",
        "     1.sub class\n",
        "     2.super class\n",
        "\n"
      ],
      "metadata": {
        "id": "9-_y31BnskHx"
      }
    },
    {
      "cell_type": "markdown",
      "source": [
        "#5. **List** **comprehensions**\n",
        "\n",
        "\n"
      ],
      "metadata": {
        "id": "m8u-B811vnFY"
      }
    },
    {
      "cell_type": "code",
      "source": [
        "squares = [x**2 for x in range(10)]\n",
        "print(squares)  # Output: [0, 1, 4, 9, 16, 25, 36, 49, 64, 81]"
      ],
      "metadata": {
        "colab": {
          "base_uri": "https://localhost:8080/"
        },
        "id": "DCI0nPKzv8E8",
        "outputId": "65f9029f-c370-40c9-fddf-5810dbfb5fce"
      },
      "execution_count": null,
      "outputs": [
        {
          "output_type": "stream",
          "name": "stdout",
          "text": [
            "[0, 1, 4, 9, 16, 25, 36, 49, 64, 81]\n"
          ]
        }
      ]
    },
    {
      "cell_type": "markdown",
      "source": [
        "List comprehensions :They consist of brackets containing an expression followed by a for clause, then zero or more for or if clauses.\n",
        "\n"
      ],
      "metadata": {
        "id": "0iOU_I7wv8o1"
      }
    },
    {
      "cell_type": "markdown",
      "source": [
        "# **delete a file **"
      ],
      "metadata": {
        "id": "Ff_2kOWzxFw3"
      }
    },
    {
      "cell_type": "code",
      "source": [
        "import os\n",
        "os.remove(\"flie txt\")\n"
      ],
      "metadata": {
        "id": "QqORpiaWxEef"
      },
      "execution_count": null,
      "outputs": []
    },
    {
      "cell_type": "markdown",
      "source": [
        "delete the file"
      ],
      "metadata": {
        "id": "k_2aQgqIxOj6"
      }
    },
    {
      "cell_type": "markdown",
      "source": [
        "### **7.Program to combine two different dictionaries**"
      ],
      "metadata": {
        "id": "LJXHsnU3yzr4"
      }
    },
    {
      "cell_type": "code",
      "source": [
        "def combine_dicts(dict1, dict2):\n",
        "    return {**dict1, **dict2}\n",
        "\n",
        "dict1 = {'a': 1, 'b': 2}\n",
        "dict2 = {'c': 3, 'd': 4}\n",
        "combined_dict = combine_dicts(dict1, dict2)\n",
        "print(combined_dict)"
      ],
      "metadata": {
        "colab": {
          "base_uri": "https://localhost:8080/"
        },
        "id": "Jq-X2f2Oy712",
        "outputId": "b2ef6254-0879-4dff-f2c8-63b4e76c1631"
      },
      "execution_count": null,
      "outputs": [
        {
          "output_type": "stream",
          "name": "stdout",
          "text": [
            "{'a': 1, 'b': 2, 'c': 3, 'd': 4}\n"
          ]
        }
      ]
    },
    {
      "cell_type": "markdown",
      "source": [
        "dictionary:\n",
        "{} denotes the dictionary.using :\n"
      ],
      "metadata": {
        "id": "8bF3C2NgzM2a"
      }
    },
    {
      "cell_type": "markdown",
      "source": [
        "## 8.odd  even"
      ],
      "metadata": {
        "id": "4vc9GRvYzNNo"
      }
    },
    {
      "cell_type": "code",
      "source": [
        "def odd_even(num):\n",
        "    if num % 2 == 0:\n",
        "        return \"Even\"\n",
        "    else:\n",
        "        return \"Odd\"\n",
        "\n",
        "number = int(input(\"Enter a number: \"))\n",
        "print(odd_even(number))"
      ],
      "metadata": {
        "id": "4xW2JyLbzP0e"
      },
      "execution_count": null,
      "outputs": []
    },
    {
      "cell_type": "markdown",
      "source": [],
      "metadata": {
        "id": "8J0iRERPzbRz"
      }
    },
    {
      "cell_type": "markdown",
      "source": [
        "# **9.lambda function**"
      ],
      "metadata": {
        "id": "jVNDRUrJzbgL"
      }
    },
    {
      "cell_type": "code",
      "source": [
        "add = lambda x, y: x + y\n",
        "print(add(3, 4))"
      ],
      "metadata": {
        "id": "_5T8evAKzhqb"
      },
      "execution_count": null,
      "outputs": []
    },
    {
      "cell_type": "markdown",
      "source": [
        "Lambda function:\n",
        "Lambda functions, also known as anonymous functions, are small, single-expression functions often used where function objects are required."
      ],
      "metadata": {
        "id": "E8PolSHPzjJ4"
      }
    }
  ]
}